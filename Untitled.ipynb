{
 "cells": [
  {
   "cell_type": "markdown",
   "metadata": {},
   "source": [
    "# 佟欣的CNN\n",
    "* * *\n",
    "\n",
    "\n",
    "<font color='purple' size=+2>祝运行成功</font>\n",
    "\n",
    "![have fun](./origin.jpg)"
   ]
  },
  {
   "cell_type": "markdown",
   "metadata": {},
   "source": [
    "# 代码开始"
   ]
  },
  {
   "cell_type": "code",
   "execution_count": 1,
   "metadata": {},
   "outputs": [],
   "source": [
    "from torchvision import transforms\n",
    "from PIL import Image\n",
    "import torch\n",
    "import numpy as np\n",
    "import math\n",
    "from input_data import *\n",
    "import torch.nn as nn\n",
    "from torch.autograd import Variable\n",
    "import random\n",
    "import cv2\n",
    "from model import *\n",
    "cv2.ocl.setUseOpenCL(False)\n",
    "from torch.utils.data import Dataset\n",
    "import matplotlib.image as mpimg"
   ]
  },
  {
   "cell_type": "markdown",
   "metadata": {},
   "source": [
    "## 版本"
   ]
  },
  {
   "cell_type": "code",
   "execution_count": 2,
   "metadata": {
    "scrolled": true
   },
   "outputs": [
    {
     "name": "stdout",
     "output_type": "stream",
     "text": [
      "0.4.0\n"
     ]
    }
   ],
   "source": [
    "print(torch.__version__)"
   ]
  },
  {
   "cell_type": "markdown",
   "metadata": {},
   "source": [
    "## 定义"
   ]
  },
  {
   "cell_type": "code",
   "execution_count": 38,
   "metadata": {},
   "outputs": [
    {
     "name": "stdout",
     "output_type": "stream",
     "text": [
      "building dataset from test_list.txt\n",
      "read meta done\n",
      "num 1681\n"
     ]
    },
    {
     "ename": "TypeError",
     "evalue": "torch.mean received an invalid combination of arguments - got (torch.FloatTensor, keepdim=bool, dim=int), but expected one of:\n * (torch.FloatTensor source)\n * (torch.FloatTensor source, int dim)\n",
     "output_type": "error",
     "traceback": [
      "\u001b[0;31m---------------------------------------------------------------------------\u001b[0m",
      "\u001b[0;31mTypeError\u001b[0m                                 Traceback (most recent call last)",
      "\u001b[0;32m<ipython-input-38-569d49eac4f4>\u001b[0m in \u001b[0;36m<module>\u001b[0;34m()\u001b[0m\n\u001b[1;32m     82\u001b[0m     \u001b[0mnum\u001b[0m \u001b[0;34m=\u001b[0m \u001b[0mrandom\u001b[0m\u001b[0;34m.\u001b[0m\u001b[0mrandint\u001b[0m\u001b[0;34m(\u001b[0m\u001b[0;36m0\u001b[0m\u001b[0;34m,\u001b[0m \u001b[0;36m2880\u001b[0m\u001b[0;34m)\u001b[0m\u001b[0;34m\u001b[0m\u001b[0m\n\u001b[1;32m     83\u001b[0m     \u001b[0mprint\u001b[0m\u001b[0;34m(\u001b[0m\u001b[0;34m'num'\u001b[0m\u001b[0;34m,\u001b[0m\u001b[0mnum\u001b[0m\u001b[0;34m)\u001b[0m\u001b[0;34m\u001b[0m\u001b[0m\n\u001b[0;32m---> 84\u001b[0;31m     \u001b[0minput\u001b[0m \u001b[0;34m=\u001b[0m \u001b[0mtest_dataset\u001b[0m\u001b[0;34m[\u001b[0m\u001b[0mnum\u001b[0m\u001b[0;34m]\u001b[0m\u001b[0;34m[\u001b[0m\u001b[0;36m0\u001b[0m\u001b[0;34m]\u001b[0m\u001b[0;34m\u001b[0m\u001b[0m\n\u001b[0m\u001b[1;32m     85\u001b[0m     \u001b[0mimg\u001b[0m\u001b[0;34m,\u001b[0m\u001b[0mcls\u001b[0m\u001b[0;34m,\u001b[0m\u001b[0mroot\u001b[0m \u001b[0;34m=\u001b[0m \u001b[0mtest_dataset\u001b[0m\u001b[0;34m.\u001b[0m\u001b[0m__getitem__\u001b[0m\u001b[0;34m(\u001b[0m\u001b[0mnum\u001b[0m\u001b[0;34m)\u001b[0m\u001b[0;34m\u001b[0m\u001b[0m\n\u001b[1;32m     86\u001b[0m     \u001b[0mprint\u001b[0m\u001b[0;34m(\u001b[0m\u001b[0;34m'galaxy ID : '\u001b[0m\u001b[0;34m,\u001b[0m\u001b[0mroot\u001b[0m\u001b[0;34m[\u001b[0m\u001b[0;36m35\u001b[0m\u001b[0;34m:\u001b[0m\u001b[0;36m41\u001b[0m\u001b[0;34m]\u001b[0m\u001b[0;34m)\u001b[0m\u001b[0;34m\u001b[0m\u001b[0m\n",
      "\u001b[0;32m<ipython-input-38-569d49eac4f4>\u001b[0m in \u001b[0;36m__getitem__\u001b[0;34m(self, idx)\u001b[0m\n\u001b[1;32m     36\u001b[0m \u001b[0;31m#         cv2.imwrite('origin.jpg', origin_img)\u001b[0m\u001b[0;34m\u001b[0m\u001b[0;34m\u001b[0m\u001b[0m\n\u001b[1;32m     37\u001b[0m         \u001b[0;32mif\u001b[0m \u001b[0mself\u001b[0m\u001b[0;34m.\u001b[0m\u001b[0mtransform\u001b[0m \u001b[0;32mis\u001b[0m \u001b[0;32mnot\u001b[0m \u001b[0;32mNone\u001b[0m\u001b[0;34m:\u001b[0m\u001b[0;34m\u001b[0m\u001b[0m\n\u001b[0;32m---> 38\u001b[0;31m             \u001b[0mimg\u001b[0m \u001b[0;34m=\u001b[0m \u001b[0mself\u001b[0m\u001b[0;34m.\u001b[0m\u001b[0mtransform\u001b[0m\u001b[0;34m(\u001b[0m\u001b[0mimg\u001b[0m\u001b[0;34m)\u001b[0m\u001b[0;34m\u001b[0m\u001b[0m\n\u001b[0m\u001b[1;32m     39\u001b[0m         \u001b[0mchange_img\u001b[0m \u001b[0;34m=\u001b[0m \u001b[0;34m(\u001b[0m\u001b[0mnp\u001b[0m\u001b[0;34m.\u001b[0m\u001b[0marray\u001b[0m\u001b[0;34m(\u001b[0m\u001b[0mimg\u001b[0m\u001b[0;34m)\u001b[0m\u001b[0;34m.\u001b[0m\u001b[0mtranspose\u001b[0m\u001b[0;34m(\u001b[0m\u001b[0;34m(\u001b[0m\u001b[0;36m1\u001b[0m\u001b[0;34m,\u001b[0m\u001b[0;36m2\u001b[0m\u001b[0;34m,\u001b[0m\u001b[0;36m0\u001b[0m\u001b[0;34m)\u001b[0m\u001b[0;34m)\u001b[0m\u001b[0;34m.\u001b[0m\u001b[0mcopy\u001b[0m\u001b[0;34m(\u001b[0m\u001b[0;34m)\u001b[0m\u001b[0;34m*\u001b[0m\u001b[0;36m255\u001b[0m\u001b[0;34m)\u001b[0m\u001b[0;34m.\u001b[0m\u001b[0mastype\u001b[0m\u001b[0;34m(\u001b[0m\u001b[0mnp\u001b[0m\u001b[0;34m.\u001b[0m\u001b[0mint32\u001b[0m\u001b[0;34m)\u001b[0m\u001b[0;34m\u001b[0m\u001b[0m\n\u001b[1;32m     40\u001b[0m         \u001b[0mcv2\u001b[0m\u001b[0;34m.\u001b[0m\u001b[0mimwrite\u001b[0m\u001b[0;34m(\u001b[0m\u001b[0;34m'change.jpg'\u001b[0m\u001b[0;34m,\u001b[0m \u001b[0mchange_img\u001b[0m\u001b[0;34m)\u001b[0m\u001b[0;34m\u001b[0m\u001b[0m\n",
      "\u001b[0;32m~/anaconda3/lib/python3.6/site-packages/torchvision/transforms/transforms.py\u001b[0m in \u001b[0;36m__call__\u001b[0;34m(self, img)\u001b[0m\n\u001b[1;32m     47\u001b[0m     \u001b[0;32mdef\u001b[0m \u001b[0m__call__\u001b[0m\u001b[0;34m(\u001b[0m\u001b[0mself\u001b[0m\u001b[0;34m,\u001b[0m \u001b[0mimg\u001b[0m\u001b[0;34m)\u001b[0m\u001b[0;34m:\u001b[0m\u001b[0;34m\u001b[0m\u001b[0m\n\u001b[1;32m     48\u001b[0m         \u001b[0;32mfor\u001b[0m \u001b[0mt\u001b[0m \u001b[0;32min\u001b[0m \u001b[0mself\u001b[0m\u001b[0;34m.\u001b[0m\u001b[0mtransforms\u001b[0m\u001b[0;34m:\u001b[0m\u001b[0;34m\u001b[0m\u001b[0m\n\u001b[0;32m---> 49\u001b[0;31m             \u001b[0mimg\u001b[0m \u001b[0;34m=\u001b[0m \u001b[0mt\u001b[0m\u001b[0;34m(\u001b[0m\u001b[0mimg\u001b[0m\u001b[0;34m)\u001b[0m\u001b[0;34m\u001b[0m\u001b[0m\n\u001b[0m\u001b[1;32m     50\u001b[0m         \u001b[0;32mreturn\u001b[0m \u001b[0mimg\u001b[0m\u001b[0;34m\u001b[0m\u001b[0m\n\u001b[1;32m     51\u001b[0m \u001b[0;34m\u001b[0m\u001b[0m\n",
      "\u001b[0;32m<ipython-input-38-569d49eac4f4>\u001b[0m in \u001b[0;36m__call__\u001b[0;34m(self, img)\u001b[0m\n\u001b[1;32m     55\u001b[0m         \u001b[0;31m# print(eps.size())\u001b[0m\u001b[0;34m\u001b[0m\u001b[0;34m\u001b[0m\u001b[0m\n\u001b[1;32m     56\u001b[0m         \u001b[0;31m# print('img:', img)\u001b[0m\u001b[0;34m\u001b[0m\u001b[0;34m\u001b[0m\u001b[0m\n\u001b[0;32m---> 57\u001b[0;31m         \u001b[0mmean\u001b[0m \u001b[0;34m=\u001b[0m \u001b[0mtorch\u001b[0m\u001b[0;34m.\u001b[0m\u001b[0mmean\u001b[0m\u001b[0;34m(\u001b[0m\u001b[0mimg\u001b[0m\u001b[0;34m,\u001b[0m \u001b[0mdim\u001b[0m\u001b[0;34m=\u001b[0m\u001b[0;36m1\u001b[0m\u001b[0;34m,\u001b[0m \u001b[0mkeepdim\u001b[0m\u001b[0;34m=\u001b[0m\u001b[0;32mTrue\u001b[0m\u001b[0;34m)\u001b[0m\u001b[0;34m\u001b[0m\u001b[0m\n\u001b[0m\u001b[1;32m     58\u001b[0m         \u001b[0;31m#print('mean:', mean.size())\u001b[0m\u001b[0;34m\u001b[0m\u001b[0;34m\u001b[0m\u001b[0m\n\u001b[1;32m     59\u001b[0m         \u001b[0mstd_tmp\u001b[0m \u001b[0;34m=\u001b[0m \u001b[0mtorch\u001b[0m\u001b[0;34m.\u001b[0m\u001b[0mcat\u001b[0m\u001b[0;34m(\u001b[0m\u001b[0;34m(\u001b[0m\u001b[0mtorch\u001b[0m\u001b[0;34m.\u001b[0m\u001b[0mstd\u001b[0m\u001b[0;34m(\u001b[0m\u001b[0mimg\u001b[0m\u001b[0;34m,\u001b[0m \u001b[0mdim\u001b[0m\u001b[0;34m=\u001b[0m\u001b[0;36m1\u001b[0m\u001b[0;34m,\u001b[0m \u001b[0mkeepdim\u001b[0m\u001b[0;34m=\u001b[0m\u001b[0;32mTrue\u001b[0m\u001b[0;34m)\u001b[0m\u001b[0;34m,\u001b[0m \u001b[0meps\u001b[0m\u001b[0;34m)\u001b[0m\u001b[0;34m,\u001b[0m \u001b[0mdim\u001b[0m\u001b[0;34m=\u001b[0m\u001b[0;36m0\u001b[0m\u001b[0;34m)\u001b[0m\u001b[0;34m\u001b[0m\u001b[0m\n",
      "\u001b[0;31mTypeError\u001b[0m: torch.mean received an invalid combination of arguments - got (torch.FloatTensor, keepdim=bool, dim=int), but expected one of:\n * (torch.FloatTensor source)\n * (torch.FloatTensor source, int dim)\n"
     ]
    }
   ],
   "source": [
    "class ResizeCV2(object):\n",
    "    def __init__(self, new_width, new_height):\n",
    "        self.new_width = new_width\n",
    "        self.new_height = new_height\n",
    "\n",
    "    def __call__(self, img):\n",
    "        img_np = np.array(img)\n",
    "        img_np = cv2.resize(img_np, (self.new_width, self.new_height))\n",
    "        img = Image.fromarray(img_np)\n",
    "        return img\n",
    "class McDataset(Dataset):\n",
    "    def __init__(self, root_dir, meta_file, transform=None, output_index=False):\n",
    "        self.root_dir = root_dir\n",
    "        self.transform = transform\n",
    "        with open(meta_file) as f:\n",
    "            lines = f.readlines()\n",
    "        print(\"building dataset from %s\" % meta_file)\n",
    "        self.num = len(lines)\n",
    "        self.metas = []\n",
    "        for line in lines:\n",
    "            path, cls = line.rstrip().split()\n",
    "            self.metas.append((path, int(cls)))\n",
    "        print(\"read meta done\")\n",
    "        self.initialized = False\n",
    "        self.output_index = output_index\n",
    "\n",
    "    def __len__(self):\n",
    "        return self.num\n",
    "\n",
    "    def __getitem__(self, idx):\n",
    "        filename = self.root_dir + '/' + self.metas[idx][0]\n",
    "        cls = self.metas[idx][1]\n",
    "        img = Image.open(filename)\n",
    "        ## transform\n",
    "#         origin_img = (np.array(transforms.ToTensor()(img)).transpose((1,2,0)).copy()*255).astype(np.int32)\n",
    "#         cv2.imwrite('origin.jpg', origin_img)\n",
    "        if self.transform is not None:\n",
    "            img = self.transform(img)\n",
    "        change_img = (np.array(img).transpose((1,2,0)).copy()*255).astype(np.int32)\n",
    "        cv2.imwrite('change.jpg', change_img)\n",
    "        if self.output_index:\n",
    "            return img, cls, idx\n",
    "        else:\n",
    "            return img, cls, filename\n",
    "class White(object):\n",
    "    def __init__(self):\n",
    "        pass\n",
    "    def __call__(self, img):\n",
    "        # print('img:', img)\n",
    "        size = img.size()\n",
    "        # print(size[0])\n",
    "        img = img.view(size[0], -1)\n",
    "        #print(img.size())\n",
    "        eps = torch.ones(size[0],1)*(1/math.sqrt(size[1]))\n",
    "        # print(eps.size())\n",
    "        # print('img:', img)\n",
    "        mean = torch.mean(img, dim=1, keepdim=True)\n",
    "        #print('mean:', mean.size())\n",
    "        std_tmp = torch.cat((torch.std(img, dim=1, keepdim=True), eps), dim=0)\n",
    "        # print(torch.cat((torch.std(img, dim=0, keepdim=True), eps), dim=0).size())\n",
    "        std = torch.max(std_tmp, dim=0)[0].expand_as(mean)\n",
    "        # std = max(torch.std(img, dim=0, keepdim=True), eps)\n",
    "        #print('std:', std.size())\n",
    "        img = (img - mean) / std\n",
    "        img = img.view(size[0], size[1], size[2])\n",
    "        # print(img.size())\n",
    "        return img\n",
    "if __name__ == '__main__':\n",
    "    filename = 'test_list.txt'\n",
    "    test_dataset = McDataset(\n",
    "        '.',\n",
    "        filename,\n",
    "        transforms.Compose([\n",
    "            transforms.CenterCrop(220),\n",
    "            ResizeCV2(80, 80),\n",
    "            transforms.CenterCrop((64, 64)),\n",
    "            transforms.ToTensor(),\n",
    "            White(),\n",
    "        ]))\n",
    "\n",
    "    # print(train_dataset[0][0])\n",
    "    num = random.randint(0, 2880)\n",
    "    print('num',num)\n",
    "    input = test_dataset[num][0]\n",
    "    img,cls,root = test_dataset.__getitem__(num)\n",
    "    print('galaxy ID : ',root[35:41])\n",
    "    print('true label: ',cls)\n",
    "    input = input.reshape(1,3,64,64)\n",
    "    input = Variable(input)\n",
    "    model = Resnet26()\n",
    "\n",
    "    checkpoint = torch.load('checkpoint/_204.pth.tar')\n",
    "    state_dict = checkpoint['state_dict']\n",
    "    own_state = model.state_dict()\n",
    " #   print(own_state.keys())\n",
    "    for name, param in state_dict.items():\n",
    "       # name = 'module.'+name\n",
    "        name = name[7:]\n",
    "    #    print(name)\n",
    "        if name in own_state:\n",
    "       #     print('here')\n",
    "            if isinstance(param, torch.nn.Parameter):  # isinstance函数来判断一个对象是否是一个已知的类型\n",
    "                # backwards compatibility for serialized parameters\n",
    "                param = param.data\n",
    "            try:\n",
    "                own_state[name].copy_(param)\n",
    "#                print('here')\n",
    "            except Exception:\n",
    "                print('While copying the parameter named {}, '\n",
    "                      'whose dimensions in the model are {} and '\n",
    "                      'whose dimensions in the checkpoint are {}.'\n",
    "                      .format(name, own_state[name].size(), param.size()))\n",
    "                print(\"But don't worry about it. Continue pretraining.\")\n",
    "    output = model(input)\n",
    "    pred = output.data.max(1)[1]\n",
    "    print('predict',int(pred))\n",
    "    output = model(input)\n",
    "    pred = output.data.max(1)[1]\n",
    "    print('predict',int(pred))\n",
    "    cls = int(cls)\n",
    "    if cls == 0:\n",
    "        clsname = 'round'\n",
    "    elif cls == 1:\n",
    "        clsname = 'middle'\n",
    "    elif cls == 2:\n",
    "        clsname = 'cigar'\n",
    "    elif cls == 3:\n",
    "        clsname = 'lateral'\n",
    "    else:\n",
    "        clsname = 'spiral'\n",
    "    # print(output.size())\n",
    "    pred = int(pred)\n",
    "    if pred == 0:\n",
    "        predname = 'round'\n",
    "    elif pred == 1:\n",
    "        predname = 'middle'\n",
    "    elif pred == 2:\n",
    "        predname = 'cigar'\n",
    "    elif pred == 3:\n",
    "        predname = 'lateral'\n",
    "    else:\n",
    "        predname = 'spiral'\n",
    "#     draw = mpimg.imread(root)\n",
    "#     plt.imshow(draw)  # 显示图片\n",
    "#     plt.axis('off')  # 不显示坐标轴\n",
    "#     plt.title('true label: '+clsname+' prediction: '+ predname)\n",
    "#     plt.show()\n",
    "\n",
    "    # print(output.size())"
   ]
  },
  {
   "cell_type": "code",
   "execution_count": 39,
   "metadata": {},
   "outputs": [
    {
     "name": "stdout",
     "output_type": "stream",
     "text": [
      "0.1.11_5\n"
     ]
    }
   ],
   "source": []
  },
  {
   "cell_type": "code",
   "execution_count": null,
   "metadata": {},
   "outputs": [],
   "source": []
  }
 ],
 "metadata": {
  "kernelspec": {
   "display_name": "Python 3",
   "language": "python",
   "name": "python3"
  },
  "language_info": {
   "codemirror_mode": {
    "name": "ipython",
    "version": 3
   },
   "file_extension": ".py",
   "mimetype": "text/x-python",
   "name": "python",
   "nbconvert_exporter": "python",
   "pygments_lexer": "ipython3",
   "version": "3.6.5"
  },
  "toc": {
   "base_numbering": 1,
   "nav_menu": {},
   "number_sections": true,
   "sideBar": true,
   "skip_h1_title": false,
   "title_cell": "Table of Contents",
   "title_sidebar": "Contents",
   "toc_cell": false,
   "toc_position": {},
   "toc_section_display": true,
   "toc_window_display": true
  },
  "varInspector": {
   "cols": {
    "lenName": 16,
    "lenType": 16,
    "lenVar": 40
   },
   "kernels_config": {
    "python": {
     "delete_cmd_postfix": "",
     "delete_cmd_prefix": "del ",
     "library": "var_list.py",
     "varRefreshCmd": "print(var_dic_list())"
    },
    "r": {
     "delete_cmd_postfix": ") ",
     "delete_cmd_prefix": "rm(",
     "library": "var_list.r",
     "varRefreshCmd": "cat(var_dic_list()) "
    }
   },
   "types_to_exclude": [
    "module",
    "function",
    "builtin_function_or_method",
    "instance",
    "_Feature"
   ],
   "window_display": false
  }
 },
 "nbformat": 4,
 "nbformat_minor": 2
}
